{
 "cells": [
  {
   "cell_type": "code",
   "execution_count": 1520,
   "outputs": [],
   "source": [
    "import pandas as pd\n",
    "import numpy as np\n",
    "import matplotlib.pyplot as plt\n",
    "from sklearn.metrics import mean_squared_log_error\n",
    "from sklearn.model_selection import KFold\n",
    "from sklearn.linear_model import SGDRegressor"
   ],
   "metadata": {
    "collapsed": false,
    "pycharm": {
     "name": "#%%\n"
    }
   }
  },
  {
   "cell_type": "code",
   "execution_count": 1521,
   "outputs": [],
   "source": [
    "train = pd.read_csv('train.csv')\n",
    "test  = pd.read_csv('test.csv')"
   ],
   "metadata": {
    "collapsed": false,
    "pycharm": {
     "name": "#%%\n"
    }
   }
  },
  {
   "cell_type": "code",
   "execution_count": 1522,
   "outputs": [
    {
     "data": {
      "text/plain": "       full_sq  price_doc       price_m2\n0           43    5850000  136046.511628\n1           34    6000000  176470.588235\n2           43    5700000  132558.139535\n3           89   13100000  147191.011236\n4           77   16331452  212096.779221\n...        ...        ...            ...\n30466       44    7400000  168181.818182\n30467       86   25000000  290697.674419\n30468       45    6970959  154910.200000\n30469       64   13500000  210937.500000\n30470       43    5600000  130232.558140\n\n[30468 rows x 3 columns]",
      "text/html": "<div>\n<style scoped>\n    .dataframe tbody tr th:only-of-type {\n        vertical-align: middle;\n    }\n\n    .dataframe tbody tr th {\n        vertical-align: top;\n    }\n\n    .dataframe thead th {\n        text-align: right;\n    }\n</style>\n<table border=\"1\" class=\"dataframe\">\n  <thead>\n    <tr style=\"text-align: right;\">\n      <th></th>\n      <th>full_sq</th>\n      <th>price_doc</th>\n      <th>price_m2</th>\n    </tr>\n  </thead>\n  <tbody>\n    <tr>\n      <th>0</th>\n      <td>43</td>\n      <td>5850000</td>\n      <td>136046.511628</td>\n    </tr>\n    <tr>\n      <th>1</th>\n      <td>34</td>\n      <td>6000000</td>\n      <td>176470.588235</td>\n    </tr>\n    <tr>\n      <th>2</th>\n      <td>43</td>\n      <td>5700000</td>\n      <td>132558.139535</td>\n    </tr>\n    <tr>\n      <th>3</th>\n      <td>89</td>\n      <td>13100000</td>\n      <td>147191.011236</td>\n    </tr>\n    <tr>\n      <th>4</th>\n      <td>77</td>\n      <td>16331452</td>\n      <td>212096.779221</td>\n    </tr>\n    <tr>\n      <th>...</th>\n      <td>...</td>\n      <td>...</td>\n      <td>...</td>\n    </tr>\n    <tr>\n      <th>30466</th>\n      <td>44</td>\n      <td>7400000</td>\n      <td>168181.818182</td>\n    </tr>\n    <tr>\n      <th>30467</th>\n      <td>86</td>\n      <td>25000000</td>\n      <td>290697.674419</td>\n    </tr>\n    <tr>\n      <th>30468</th>\n      <td>45</td>\n      <td>6970959</td>\n      <td>154910.200000</td>\n    </tr>\n    <tr>\n      <th>30469</th>\n      <td>64</td>\n      <td>13500000</td>\n      <td>210937.500000</td>\n    </tr>\n    <tr>\n      <th>30470</th>\n      <td>43</td>\n      <td>5600000</td>\n      <td>130232.558140</td>\n    </tr>\n  </tbody>\n</table>\n<p>30468 rows × 3 columns</p>\n</div>"
     },
     "execution_count": 1522,
     "metadata": {},
     "output_type": "execute_result"
    }
   ],
   "source": [
    "train = train.drop(train.loc[train[\"full_sq\"] == 0].index)\n",
    "train = train.drop(train.loc[train[\"full_sq\"] == train[\"full_sq\"].max()].index)\n",
    "train[\"price_m2\"] = train[\"price_doc\"] / train[\"full_sq\"]\n",
    "train[[\"full_sq\", \"price_doc\", \"price_m2\"]]"
   ],
   "metadata": {
    "collapsed": false,
    "pycharm": {
     "name": "#%%\n"
    }
   }
  },
  {
   "cell_type": "code",
   "execution_count": 1523,
   "outputs": [],
   "source": [
    "def my_cross_validation(estimator, X, y, k):\n",
    "    kf = KFold(n_splits=k, shuffle = True, random_state=0)\n",
    "    msles = []\n",
    "    for train_index, test_index in kf.split(X):\n",
    "        X_train, X_test = X.iloc[train_index], X.iloc[test_index]\n",
    "        y_train, y_test = y.iloc[train_index], y.iloc[test_index]\n",
    "\n",
    "        estimator.fit(X_train, y_train)\n",
    "        y_pred = estimator.predict(X_test)\n",
    "        y_pred = y_pred.clip(0, 10_000_000)\n",
    "        msle = mean_squared_log_error(y_test, y_pred)\n",
    "        msles.append(msle)\n",
    "        print(msle)\n",
    "    return np.mean(msles), np.std(msles)\n",
    "\n",
    "\n",
    "def normalize(features):\n",
    "    for f in features:\n",
    "        train[f] = (train[f] - train[f].mean()) / train[f].max()\n",
    "        test[f] = (test[f] - test[f].mean()) / test[f].max()"
   ],
   "metadata": {
    "collapsed": false,
    "pycharm": {
     "name": "#%%\n"
    }
   }
  },
  {
   "cell_type": "markdown",
   "metadata": {
    "collapsed": true,
    "pycharm": {
     "name": "#%% md\n"
    }
   },
   "source": [
    "# Model 1"
   ]
  },
  {
   "cell_type": "code",
   "execution_count": 1524,
   "outputs": [],
   "source": [
    "features = ['metro_km_walk', 'kremlin_km', 'full_sq']\n",
    "for f in features:\n",
    "    train[f] = train[f].fillna(train[f].median())\n",
    "    test[f] = test[f].fillna(test[f].median())"
   ],
   "metadata": {
    "collapsed": false,
    "pycharm": {
     "name": "#%%\n"
    }
   }
  },
  {
   "cell_type": "code",
   "execution_count": 1525,
   "outputs": [
    {
     "name": "stdout",
     "output_type": "stream",
     "text": [
      "0.7211929190037075\n",
      "5.031910767346402\n",
      "0.5100759445765699\n",
      "0.2930918377990794\n",
      "10.981923155948333\n",
      "99.3688982001877\n",
      "2.706962227393917\n",
      "0.875227160926547\n",
      "0.3941092731426092\n",
      "0.5692532834157477\n"
     ]
    },
    {
     "data": {
      "text/plain": "(12.14526447697406, 29.24801777481875)"
     },
     "execution_count": 1525,
     "metadata": {},
     "output_type": "execute_result"
    }
   ],
   "source": [
    "model1 = SGDRegressor(random_state=0)\n",
    "res = my_cross_validation(model1, train[features], train[\"price_m2\"], 10)\n",
    "res"
   ],
   "metadata": {
    "collapsed": false,
    "pycharm": {
     "name": "#%%\n"
    }
   }
  },
  {
   "cell_type": "code",
   "execution_count": 1526,
   "outputs": [
    {
     "data": {
      "text/plain": "array([291665.72258228,  -8203.97579494, 122876.8694315 , ...,\n         9436.90707557, 231595.48036643,  20689.39490155])"
     },
     "execution_count": 1526,
     "metadata": {},
     "output_type": "execute_result"
    }
   ],
   "source": [
    "model1.fit(train[features], train[\"price_m2\"])\n",
    "y_pred = model1.predict(test[features])\n",
    "y_pred"
   ],
   "metadata": {
    "collapsed": false,
    "pycharm": {
     "name": "#%%\n"
    }
   }
  },
  {
   "cell_type": "code",
   "execution_count": 1527,
   "outputs": [],
   "source": [
    "submission = pd.read_csv('sample_submission.csv')\n",
    "submission['price_doc'] = (test['full_sq'] * y_pred).clip(0, 1000_000_000)\n",
    "submission.to_csv('predict1.csv', index = False)"
   ],
   "metadata": {
    "collapsed": false,
    "pycharm": {
     "name": "#%%\n"
    }
   }
  },
  {
   "cell_type": "markdown",
   "source": [
    "cv msle mean/std 12.14526447697406, 29.24801777481875\n",
    "\n",
    "lb private/public 8.00372 7.90821"
   ],
   "metadata": {
    "collapsed": false,
    "pycharm": {
     "name": "#%% md\n"
    }
   }
  },
  {
   "cell_type": "markdown",
   "source": [
    "# Model 2"
   ],
   "metadata": {
    "collapsed": false,
    "pycharm": {
     "name": "#%% md\n"
    }
   }
  },
  {
   "cell_type": "code",
   "execution_count": 1528,
   "outputs": [
    {
     "data": {
      "text/plain": "         id   timestamp   full_sq  life_sq  floor  max_floor  material  \\\n0     30474  2015-07-01 -0.036479     20.7      2          9         1   \n1     30475  2015-07-01  0.063273      NaN      8         17         1   \n2     30476  2015-07-01 -0.032757     25.1      3          5         2   \n3     30477  2015-07-01  0.022578     36.0     17         17         1   \n4     30478  2015-07-01 -0.033998     40.0     17         17         1   \n...     ...         ...       ...      ...    ...        ...       ...   \n7657  38131  2016-05-26 -0.003725     31.8     10         12         5   \n7658  38132  2016-05-28  0.000965      NaN     14          0         1   \n7659  38133  2016-05-30 -0.031318      1.0     12          1         1   \n7660  38134  2016-05-30 -0.046901     19.8      8          9         5   \n7661  38135  2016-05-30  0.023074     43.8      5          5         1   \n\n      build_year  num_room  kitch_sq  ...  cafe_count_5000_price_2500  \\\n0         1998.0         1       8.9  ...                           0   \n1            0.0         3       1.0  ...                           1   \n2         1960.0         2       4.8  ...                          11   \n3         2016.0         2      62.8  ...                           1   \n4            0.0         1       1.0  ...                           1   \n...          ...       ...       ...  ...                         ...   \n7657      1973.0         2       9.1  ...                          28   \n7658         NaN         2       0.0  ...                           2   \n7659         1.0         1       1.0  ...                         371   \n7660      1977.0         1       6.4  ...                           7   \n7661      1973.0         3       7.1  ...                          11   \n\n     cafe_count_5000_price_4000 cafe_count_5000_price_high  \\\n0                             0                          0   \n1                             1                          0   \n2                             4                          0   \n3                             2                          0   \n4                             1                          0   \n...                         ...                        ...   \n7657                          1                          1   \n7658                          1                          0   \n7659                        141                         26   \n7660                          2                          0   \n7661                          1                          0   \n\n      big_church_count_5000  church_count_5000  mosque_count_5000  \\\n0                         1                 10                  1   \n1                         2                 11                  0   \n2                        10                 21                  0   \n3                         0                 10                  0   \n4                         2                 12                  0   \n...                     ...                ...                ...   \n7657                      8                 39                  2   \n7658                      0                 10                  0   \n7659                    150                249                  2   \n7660                      5                 11                  0   \n7661                      6                 26                  1   \n\n      leisure_count_5000  sport_count_5000  market_count_5000  full_sq_m2  \n0                      0                14                  1       39.00  \n1                      1                12                  1       79.20  \n2                     10                71                 11       40.50  \n3                      0                 2                  0       62.80  \n4                      1                11                  1       40.00  \n...                  ...               ...                ...         ...  \n7657                   3                75                 12       52.20  \n7658                   0                 0                  0       54.09  \n7659                 105               203                 13       41.08  \n7660                   2                43                 10       34.80  \n7661                   4                42                 11       63.00  \n\n[7662 rows x 292 columns]",
      "text/html": "<div>\n<style scoped>\n    .dataframe tbody tr th:only-of-type {\n        vertical-align: middle;\n    }\n\n    .dataframe tbody tr th {\n        vertical-align: top;\n    }\n\n    .dataframe thead th {\n        text-align: right;\n    }\n</style>\n<table border=\"1\" class=\"dataframe\">\n  <thead>\n    <tr style=\"text-align: right;\">\n      <th></th>\n      <th>id</th>\n      <th>timestamp</th>\n      <th>full_sq</th>\n      <th>life_sq</th>\n      <th>floor</th>\n      <th>max_floor</th>\n      <th>material</th>\n      <th>build_year</th>\n      <th>num_room</th>\n      <th>kitch_sq</th>\n      <th>...</th>\n      <th>cafe_count_5000_price_2500</th>\n      <th>cafe_count_5000_price_4000</th>\n      <th>cafe_count_5000_price_high</th>\n      <th>big_church_count_5000</th>\n      <th>church_count_5000</th>\n      <th>mosque_count_5000</th>\n      <th>leisure_count_5000</th>\n      <th>sport_count_5000</th>\n      <th>market_count_5000</th>\n      <th>full_sq_m2</th>\n    </tr>\n  </thead>\n  <tbody>\n    <tr>\n      <th>0</th>\n      <td>30474</td>\n      <td>2015-07-01</td>\n      <td>-0.036479</td>\n      <td>20.7</td>\n      <td>2</td>\n      <td>9</td>\n      <td>1</td>\n      <td>1998.0</td>\n      <td>1</td>\n      <td>8.9</td>\n      <td>...</td>\n      <td>0</td>\n      <td>0</td>\n      <td>0</td>\n      <td>1</td>\n      <td>10</td>\n      <td>1</td>\n      <td>0</td>\n      <td>14</td>\n      <td>1</td>\n      <td>39.00</td>\n    </tr>\n    <tr>\n      <th>1</th>\n      <td>30475</td>\n      <td>2015-07-01</td>\n      <td>0.063273</td>\n      <td>NaN</td>\n      <td>8</td>\n      <td>17</td>\n      <td>1</td>\n      <td>0.0</td>\n      <td>3</td>\n      <td>1.0</td>\n      <td>...</td>\n      <td>1</td>\n      <td>1</td>\n      <td>0</td>\n      <td>2</td>\n      <td>11</td>\n      <td>0</td>\n      <td>1</td>\n      <td>12</td>\n      <td>1</td>\n      <td>79.20</td>\n    </tr>\n    <tr>\n      <th>2</th>\n      <td>30476</td>\n      <td>2015-07-01</td>\n      <td>-0.032757</td>\n      <td>25.1</td>\n      <td>3</td>\n      <td>5</td>\n      <td>2</td>\n      <td>1960.0</td>\n      <td>2</td>\n      <td>4.8</td>\n      <td>...</td>\n      <td>11</td>\n      <td>4</td>\n      <td>0</td>\n      <td>10</td>\n      <td>21</td>\n      <td>0</td>\n      <td>10</td>\n      <td>71</td>\n      <td>11</td>\n      <td>40.50</td>\n    </tr>\n    <tr>\n      <th>3</th>\n      <td>30477</td>\n      <td>2015-07-01</td>\n      <td>0.022578</td>\n      <td>36.0</td>\n      <td>17</td>\n      <td>17</td>\n      <td>1</td>\n      <td>2016.0</td>\n      <td>2</td>\n      <td>62.8</td>\n      <td>...</td>\n      <td>1</td>\n      <td>2</td>\n      <td>0</td>\n      <td>0</td>\n      <td>10</td>\n      <td>0</td>\n      <td>0</td>\n      <td>2</td>\n      <td>0</td>\n      <td>62.80</td>\n    </tr>\n    <tr>\n      <th>4</th>\n      <td>30478</td>\n      <td>2015-07-01</td>\n      <td>-0.033998</td>\n      <td>40.0</td>\n      <td>17</td>\n      <td>17</td>\n      <td>1</td>\n      <td>0.0</td>\n      <td>1</td>\n      <td>1.0</td>\n      <td>...</td>\n      <td>1</td>\n      <td>1</td>\n      <td>0</td>\n      <td>2</td>\n      <td>12</td>\n      <td>0</td>\n      <td>1</td>\n      <td>11</td>\n      <td>1</td>\n      <td>40.00</td>\n    </tr>\n    <tr>\n      <th>...</th>\n      <td>...</td>\n      <td>...</td>\n      <td>...</td>\n      <td>...</td>\n      <td>...</td>\n      <td>...</td>\n      <td>...</td>\n      <td>...</td>\n      <td>...</td>\n      <td>...</td>\n      <td>...</td>\n      <td>...</td>\n      <td>...</td>\n      <td>...</td>\n      <td>...</td>\n      <td>...</td>\n      <td>...</td>\n      <td>...</td>\n      <td>...</td>\n      <td>...</td>\n      <td>...</td>\n    </tr>\n    <tr>\n      <th>7657</th>\n      <td>38131</td>\n      <td>2016-05-26</td>\n      <td>-0.003725</td>\n      <td>31.8</td>\n      <td>10</td>\n      <td>12</td>\n      <td>5</td>\n      <td>1973.0</td>\n      <td>2</td>\n      <td>9.1</td>\n      <td>...</td>\n      <td>28</td>\n      <td>1</td>\n      <td>1</td>\n      <td>8</td>\n      <td>39</td>\n      <td>2</td>\n      <td>3</td>\n      <td>75</td>\n      <td>12</td>\n      <td>52.20</td>\n    </tr>\n    <tr>\n      <th>7658</th>\n      <td>38132</td>\n      <td>2016-05-28</td>\n      <td>0.000965</td>\n      <td>NaN</td>\n      <td>14</td>\n      <td>0</td>\n      <td>1</td>\n      <td>NaN</td>\n      <td>2</td>\n      <td>0.0</td>\n      <td>...</td>\n      <td>2</td>\n      <td>1</td>\n      <td>0</td>\n      <td>0</td>\n      <td>10</td>\n      <td>0</td>\n      <td>0</td>\n      <td>0</td>\n      <td>0</td>\n      <td>54.09</td>\n    </tr>\n    <tr>\n      <th>7659</th>\n      <td>38133</td>\n      <td>2016-05-30</td>\n      <td>-0.031318</td>\n      <td>1.0</td>\n      <td>12</td>\n      <td>1</td>\n      <td>1</td>\n      <td>1.0</td>\n      <td>1</td>\n      <td>1.0</td>\n      <td>...</td>\n      <td>371</td>\n      <td>141</td>\n      <td>26</td>\n      <td>150</td>\n      <td>249</td>\n      <td>2</td>\n      <td>105</td>\n      <td>203</td>\n      <td>13</td>\n      <td>41.08</td>\n    </tr>\n    <tr>\n      <th>7660</th>\n      <td>38134</td>\n      <td>2016-05-30</td>\n      <td>-0.046901</td>\n      <td>19.8</td>\n      <td>8</td>\n      <td>9</td>\n      <td>5</td>\n      <td>1977.0</td>\n      <td>1</td>\n      <td>6.4</td>\n      <td>...</td>\n      <td>7</td>\n      <td>2</td>\n      <td>0</td>\n      <td>5</td>\n      <td>11</td>\n      <td>0</td>\n      <td>2</td>\n      <td>43</td>\n      <td>10</td>\n      <td>34.80</td>\n    </tr>\n    <tr>\n      <th>7661</th>\n      <td>38135</td>\n      <td>2016-05-30</td>\n      <td>0.023074</td>\n      <td>43.8</td>\n      <td>5</td>\n      <td>5</td>\n      <td>1</td>\n      <td>1973.0</td>\n      <td>3</td>\n      <td>7.1</td>\n      <td>...</td>\n      <td>11</td>\n      <td>1</td>\n      <td>0</td>\n      <td>6</td>\n      <td>26</td>\n      <td>1</td>\n      <td>4</td>\n      <td>42</td>\n      <td>11</td>\n      <td>63.00</td>\n    </tr>\n  </tbody>\n</table>\n<p>7662 rows × 292 columns</p>\n</div>"
     },
     "execution_count": 1528,
     "metadata": {},
     "output_type": "execute_result"
    }
   ],
   "source": [
    "test[\"full_sq_m2\"] = test.loc[:, \"full_sq\"]\n",
    "normalize(features)\n",
    "test"
   ],
   "metadata": {
    "collapsed": false,
    "pycharm": {
     "name": "#%%\n"
    }
   }
  },
  {
   "cell_type": "code",
   "execution_count": 1529,
   "outputs": [
    {
     "data": {
      "text/plain": "(-2.0, 2.0)"
     },
     "execution_count": 1529,
     "metadata": {},
     "output_type": "execute_result"
    },
    {
     "data": {
      "text/plain": "<Figure size 432x288 with 1 Axes>",
      "image/png": "[encoded data removed]"
     },
     "metadata": {
      "needs_background": "light"
     },
     "output_type": "display_data"
    }
   ],
   "source": [
    "plt.scatter(x=train[\"full_sq\"], y=train[\"price_m2\"])\n",
    "plt.xlim(-2, 2)"
   ],
   "metadata": {
    "collapsed": false,
    "pycharm": {
     "name": "#%%\n"
    }
   }
  },
  {
   "cell_type": "code",
   "execution_count": 1530,
   "outputs": [
    {
     "name": "stdout",
     "output_type": "stream",
     "text": [
      "0.5423645921763799\n",
      "0.34647435282626005\n",
      "0.3848080726132822\n",
      "0.3178839374328493\n",
      "0.3892964523207615\n",
      "0.4582100328558902\n",
      "0.48746883778855465\n",
      "0.5471743166347882\n",
      "0.3886990407077922\n",
      "0.42770826312629895\n"
     ]
    },
    {
     "data": {
      "text/plain": "(0.4290087898482858, 0.0744317982860507)"
     },
     "execution_count": 1530,
     "metadata": {},
     "output_type": "execute_result"
    }
   ],
   "source": [
    "model2 = SGDRegressor(random_state=0)\n",
    "res = my_cross_validation(model2, train[features], train[\"price_m2\"], 10)\n",
    "res"
   ],
   "metadata": {
    "collapsed": false,
    "pycharm": {
     "name": "#%%\n"
    }
   }
  },
  {
   "cell_type": "code",
   "execution_count": 1531,
   "outputs": [
    {
     "data": {
      "text/plain": "array([121075.98109503, 100345.29485936, 162159.30107795, ...,\n       191636.90695032, 146468.41869718, 137648.83907707])"
     },
     "execution_count": 1531,
     "metadata": {},
     "output_type": "execute_result"
    }
   ],
   "source": [
    "model2.fit(train[features], train[\"price_m2\"])\n",
    "y_pred = model2.predict(test[features])\n",
    "y_pred"
   ],
   "metadata": {
    "collapsed": false,
    "pycharm": {
     "name": "#%%\n"
    }
   }
  },
  {
   "cell_type": "code",
   "execution_count": 1532,
   "outputs": [],
   "source": [
    "submission = pd.read_csv('sample_submission.csv')\n",
    "submission['price_doc'] = (test[\"full_sq_m2\"] * y_pred).clip(0, 1000_000_000)\n",
    "submission.to_csv('predict2.csv', index = False)"
   ],
   "metadata": {
    "collapsed": false,
    "pycharm": {
     "name": "#%%\n"
    }
   }
  },
  {
   "cell_type": "markdown",
   "source": [
    "cv msle mean/std 0.4290087898482858, 0.0744317982860507\n",
    "\n",
    "lb private/public 0.84866 0.49540"
   ],
   "metadata": {
    "collapsed": false,
    "pycharm": {
     "name": "#%% md\n",
     "is_executing": true
    }
   }
  },
  {
   "cell_type": "markdown",
   "source": [
    "# Model 3"
   ],
   "metadata": {
    "collapsed": false,
    "pycharm": {
     "name": "#%% md\n"
    }
   }
  },
  {
   "cell_type": "code",
   "execution_count": 1533,
   "outputs": [],
   "source": [
    "train['product_type'] = train['product_type'].replace( { 'Investment':1,'OwnerOccupier':0, np.nan:0  })\n",
    "test['product_type'] = test['product_type'].replace( { 'Investment':1,'OwnerOccupier':0, np.nan:0  })\n",
    "\n",
    "sub_area_target_encoding =  train.groupby(['sub_area'])['price_m2'].mean()\n",
    "train['sub_area'] = train['sub_area'].replace( sub_area_target_encoding)\n",
    "test['sub_area'] = test['sub_area'].replace( sub_area_target_encoding)\n",
    "normalize([\"sub_area\"])\n",
    "\n",
    "features += ['product_type', 'sub_area']\n"
   ],
   "metadata": {
    "collapsed": false,
    "pycharm": {
     "name": "#%%\n"
    }
   }
  },
  {
   "cell_type": "code",
   "execution_count": 1534,
   "outputs": [
    {
     "data": {
      "text/plain": "       metro_km_walk  kremlin_km   full_sq  product_type  sub_area\n0          -0.040980   -0.012554 -0.015151             1 -0.010564\n1          -0.049352   -0.103850 -0.027496             1  0.228813\n2          -0.035670   -0.098622 -0.015151             1 -0.012333\n3          -0.043806    0.048668  0.047950             1  0.105811\n4          -0.048445   -0.190357  0.031489             1  0.184014\n...              ...         ...       ...           ...       ...\n30466      -0.048597   -0.048700 -0.013779             1  0.011678\n30467      -0.046886   -0.180594  0.043834             1 -0.045641\n30468      -0.031009    0.082861 -0.012407             0 -0.083107\n30469      -0.025524   -0.034235  0.013656             1  0.075142\n30470      -0.052396   -0.059821 -0.015151             1  0.013355\n\n[30468 rows x 5 columns]",
      "text/html": "<div>\n<style scoped>\n    .dataframe tbody tr th:only-of-type {\n        vertical-align: middle;\n    }\n\n    .dataframe tbody tr th {\n        vertical-align: top;\n    }\n\n    .dataframe thead th {\n        text-align: right;\n    }\n</style>\n<table border=\"1\" class=\"dataframe\">\n  <thead>\n    <tr style=\"text-align: right;\">\n      <th></th>\n      <th>metro_km_walk</th>\n      <th>kremlin_km</th>\n      <th>full_sq</th>\n      <th>product_type</th>\n      <th>sub_area</th>\n    </tr>\n  </thead>\n  <tbody>\n    <tr>\n      <th>0</th>\n      <td>-0.040980</td>\n      <td>-0.012554</td>\n      <td>-0.015151</td>\n      <td>1</td>\n      <td>-0.010564</td>\n    </tr>\n    <tr>\n      <th>1</th>\n      <td>-0.049352</td>\n      <td>-0.103850</td>\n      <td>-0.027496</td>\n      <td>1</td>\n      <td>0.228813</td>\n    </tr>\n    <tr>\n      <th>2</th>\n      <td>-0.035670</td>\n      <td>-0.098622</td>\n      <td>-0.015151</td>\n      <td>1</td>\n      <td>-0.012333</td>\n    </tr>\n    <tr>\n      <th>3</th>\n      <td>-0.043806</td>\n      <td>0.048668</td>\n      <td>0.047950</td>\n      <td>1</td>\n      <td>0.105811</td>\n    </tr>\n    <tr>\n      <th>4</th>\n      <td>-0.048445</td>\n      <td>-0.190357</td>\n      <td>0.031489</td>\n      <td>1</td>\n      <td>0.184014</td>\n    </tr>\n    <tr>\n      <th>...</th>\n      <td>...</td>\n      <td>...</td>\n      <td>...</td>\n      <td>...</td>\n      <td>...</td>\n    </tr>\n    <tr>\n      <th>30466</th>\n      <td>-0.048597</td>\n      <td>-0.048700</td>\n      <td>-0.013779</td>\n      <td>1</td>\n      <td>0.011678</td>\n    </tr>\n    <tr>\n      <th>30467</th>\n      <td>-0.046886</td>\n      <td>-0.180594</td>\n      <td>0.043834</td>\n      <td>1</td>\n      <td>-0.045641</td>\n    </tr>\n    <tr>\n      <th>30468</th>\n      <td>-0.031009</td>\n      <td>0.082861</td>\n      <td>-0.012407</td>\n      <td>0</td>\n      <td>-0.083107</td>\n    </tr>\n    <tr>\n      <th>30469</th>\n      <td>-0.025524</td>\n      <td>-0.034235</td>\n      <td>0.013656</td>\n      <td>1</td>\n      <td>0.075142</td>\n    </tr>\n    <tr>\n      <th>30470</th>\n      <td>-0.052396</td>\n      <td>-0.059821</td>\n      <td>-0.015151</td>\n      <td>1</td>\n      <td>0.013355</td>\n    </tr>\n  </tbody>\n</table>\n<p>30468 rows × 5 columns</p>\n</div>"
     },
     "execution_count": 1534,
     "metadata": {},
     "output_type": "execute_result"
    }
   ],
   "source": [
    "train[features]"
   ],
   "metadata": {
    "collapsed": false,
    "pycharm": {
     "name": "#%%\n"
    }
   }
  },
  {
   "cell_type": "code",
   "execution_count": 1535,
   "outputs": [
    {
     "name": "stdout",
     "output_type": "stream",
     "text": [
      "0.3323290535149364\n",
      "0.27284314932114423\n",
      "0.33135502993001426\n",
      "0.3655899240996712\n",
      "0.35612654946032507\n",
      "0.35534978501726955\n",
      "0.2889864442233232\n",
      "0.3973863752373064\n",
      "0.36252786957258865\n",
      "0.40905954807964456\n"
     ]
    },
    {
     "data": {
      "text/plain": "(0.34715537284562237, 0.04056409576496447)"
     },
     "execution_count": 1535,
     "metadata": {},
     "output_type": "execute_result"
    }
   ],
   "source": [
    "model3 = SGDRegressor(random_state=0)\n",
    "res = my_cross_validation(model3, train[features], train[\"price_m2\"], 10)\n",
    "res"
   ],
   "metadata": {
    "collapsed": false,
    "pycharm": {
     "name": "#%%\n"
    }
   }
  },
  {
   "cell_type": "code",
   "execution_count": 1536,
   "outputs": [
    {
     "data": {
      "text/plain": "array([119504.57368738,  97721.39051888, 135286.425353  , ...,\n       151953.82374594, 141565.31437467, 132730.39036241])"
     },
     "execution_count": 1536,
     "metadata": {},
     "output_type": "execute_result"
    }
   ],
   "source": [
    "model3.fit(train[features], train[\"price_m2\"])\n",
    "y_pred = model3.predict(test[features])\n",
    "y_pred"
   ],
   "metadata": {
    "collapsed": false,
    "pycharm": {
     "name": "#%%\n"
    }
   }
  },
  {
   "cell_type": "code",
   "execution_count": 1537,
   "outputs": [],
   "source": [
    "submission = pd.read_csv('sample_submission.csv')\n",
    "submission['price_doc'] = (test[\"full_sq_m2\"] * y_pred).clip(0, 1000_000_000)\n",
    "submission.to_csv('predict3.csv', index = False)"
   ],
   "metadata": {
    "collapsed": false,
    "pycharm": {
     "name": "#%%\n"
    }
   }
  },
  {
   "cell_type": "markdown",
   "source": [
    "cv msle mean/std 0.34715537284562237, 0.04056409576496447\n",
    "\n",
    "lb private/public 0.91851 0.50213\n",
    "\n",
    "# Model 4"
   ],
   "metadata": {
    "collapsed": false,
    "pycharm": {
     "name": "#%% md\n"
    }
   }
  },
  {
   "cell_type": "code",
   "execution_count": 1538,
   "outputs": [],
   "source": [
    "train['timestamp'] = pd.to_datetime(train['timestamp'])\n",
    "test['timestamp'] = pd.to_datetime(test['timestamp'])"
   ],
   "metadata": {
    "collapsed": false,
    "pycharm": {
     "name": "#%%\n"
    }
   }
  },
  {
   "cell_type": "code",
   "execution_count": 1539,
   "outputs": [],
   "source": [
    "def get_date_time_features(timestamp_series: pd.Series) -> pd.DataFrame:\n",
    "\n",
    "    output= pd.DataFrame()\n",
    "    output['timestamp']= timestamp_series\n",
    "    output['month'] = timestamp_series.dt.month.astype(np.int8)\n",
    "    output['hour_datetime'] = timestamp_series.dt.hour.astype(np.int64)\n",
    "    output['day_week'] = timestamp_series.dt.dayofweek.astype(np.int8)\n",
    "    output['day_month_datetime'] = timestamp_series.dt.day.astype(np.int8)\n",
    "    output['year'] = timestamp_series.dt.year.astype(np.int16)\n",
    "    output['seconds'] = timestamp_series.astype(np.int64) / 1_000_000_000\n",
    "    output['mins'] = output['seconds'] / 60\n",
    "    output['hours'] = output['mins'] / 60\n",
    "    output['days'] = output['hours'] / 24\n",
    "    output['months'] = output['days'] / 30\n",
    "    return output"
   ],
   "metadata": {
    "collapsed": false,
    "pycharm": {
     "name": "#%%\n"
    }
   }
  },
  {
   "cell_type": "code",
   "execution_count": 1540,
   "outputs": [],
   "source": [
    "train = pd.concat( [train, get_date_time_features(train['timestamp'])] , axis=1 )\n",
    "test = pd.concat( [test, get_date_time_features(test['timestamp'])] , axis=1 )"
   ],
   "metadata": {
    "collapsed": false,
    "pycharm": {
     "name": "#%%\n"
    }
   }
  },
  {
   "cell_type": "code",
   "execution_count": 1541,
   "outputs": [],
   "source": [
    "new_features = [\"hours\", \"month\", \"day_week\", \"year\"]\n",
    "normalize(new_features)\n",
    "features += new_features"
   ],
   "metadata": {
    "collapsed": false,
    "pycharm": {
     "name": "#%%\n"
    }
   }
  },
  {
   "cell_type": "code",
   "execution_count": 1542,
   "outputs": [
    {
     "name": "stdout",
     "output_type": "stream",
     "text": [
      "0.5498803562342153\n",
      "0.32878168449943923\n",
      "0.3294914445705847\n",
      "0.3318926230453899\n",
      "0.40271457492407\n",
      "0.3571477671316625\n",
      "0.2967444893283009\n",
      "0.41662813844047747\n",
      "0.4625067355271364\n",
      "0.4599809450084666\n"
     ]
    },
    {
     "data": {
      "text/plain": "(0.3935768758709743, 0.07551182662172991)"
     },
     "execution_count": 1542,
     "metadata": {},
     "output_type": "execute_result"
    }
   ],
   "source": [
    "model4 = SGDRegressor(random_state=0)\n",
    "res = my_cross_validation(model4, train[features], train[\"price_m2\"], 10)\n",
    "res"
   ],
   "metadata": {
    "collapsed": false,
    "pycharm": {
     "name": "#%%\n"
    }
   }
  },
  {
   "cell_type": "code",
   "execution_count": 1543,
   "outputs": [
    {
     "data": {
      "text/plain": "array([118135.1947263 ,  91447.06627973, 133684.50416082, ...,\n       151301.09885294, 141659.4905722 , 129349.34257035])"
     },
     "execution_count": 1543,
     "metadata": {},
     "output_type": "execute_result"
    }
   ],
   "source": [
    "model4.fit(train[features], train[\"price_m2\"])\n",
    "y_pred = model4.predict(test[features])\n",
    "y_pred"
   ],
   "metadata": {
    "collapsed": false,
    "pycharm": {
     "name": "#%%\n"
    }
   }
  },
  {
   "cell_type": "code",
   "execution_count": 1544,
   "outputs": [],
   "source": [
    "submission = pd.read_csv('sample_submission.csv')\n",
    "submission['price_doc'] = (test[\"full_sq_m2\"] * y_pred).clip(0, 1000_000_000)\n",
    "submission.to_csv('predict4.csv', index = False)"
   ],
   "metadata": {
    "collapsed": false,
    "pycharm": {
     "name": "#%%\n"
    }
   }
  },
  {
   "cell_type": "markdown",
   "source": [
    "cv msle mean/std 0.3935768758709743, 0.07551182662172991\n",
    "\n",
    "lb private/public 1.00819 0.74432\n",
    "\n",
    "# Model 5"
   ],
   "metadata": {
    "collapsed": false,
    "pycharm": {
     "name": "#%% md\n"
    }
   }
  },
  {
   "cell_type": "code",
   "execution_count": 1545,
   "outputs": [],
   "source": [
    "features = ['metro_km_walk', 'kremlin_km', 'full_sq', 'product_type', 'sub_area', \"year\"]\n",
    "new_features = [\"build_year\", \"state\"]\n",
    "for f in new_features:\n",
    "    train[f] = train[f].fillna(train[f].median())\n",
    "    test[f] = test[f].fillna(test[f].median())\n",
    "train[\"build_year\"] = train[\"build_year\"].clip(1900, 2021)\n",
    "train[\"state\"] = train[\"state\"].clip(train[\"state\"].quantile(0.01), train[\"state\"].quantile(0.99))\n",
    "normalize(new_features)\n",
    "features += new_features"
   ],
   "metadata": {
    "collapsed": false,
    "pycharm": {
     "name": "#%%\n"
    }
   }
  },
  {
   "cell_type": "code",
   "execution_count": 1546,
   "outputs": [
    {
     "name": "stdout",
     "output_type": "stream",
     "text": [
      "0.33284605580934334\n",
      "0.32792295749748296\n",
      "0.33362145916933234\n",
      "0.3661236467988514\n",
      "0.3679141427471835\n",
      "0.35566742310804933\n",
      "0.32976703234923643\n",
      "0.38971723016952464\n",
      "0.33338623444371107\n",
      "0.410196262157705\n"
     ]
    },
    {
     "data": {
      "text/plain": "(0.35471624442504196, 0.027068297525129115)"
     },
     "execution_count": 1546,
     "metadata": {},
     "output_type": "execute_result"
    }
   ],
   "source": [
    "model5 = SGDRegressor(random_state=0)\n",
    "res = my_cross_validation(model5, train[features], train[\"price_m2\"], 10)\n",
    "res"
   ],
   "metadata": {
    "collapsed": false,
    "pycharm": {
     "name": "#%%\n"
    }
   }
  },
  {
   "cell_type": "code",
   "execution_count": 1547,
   "outputs": [
    {
     "data": {
      "text/plain": "array([106871.6089985 , 211980.79748927, 127476.6151304 , ...,\n       269867.27860682, 133685.1562923 , 118387.03821134])"
     },
     "execution_count": 1547,
     "metadata": {},
     "output_type": "execute_result"
    }
   ],
   "source": [
    "model5.fit(train[features], train[\"price_m2\"])\n",
    "y_pred = model5.predict(test[features])\n",
    "y_pred"
   ],
   "metadata": {
    "collapsed": false,
    "pycharm": {
     "name": "#%%\n"
    }
   }
  },
  {
   "cell_type": "code",
   "execution_count": 1548,
   "outputs": [],
   "source": [
    "submission = pd.read_csv('sample_submission.csv')\n",
    "submission['price_doc'] = (test[\"full_sq_m2\"] * y_pred).clip(0, 1000_000_000)\n",
    "submission.to_csv('predict5.csv', index = False)"
   ],
   "metadata": {
    "collapsed": false,
    "pycharm": {
     "name": "#%%\n"
    }
   }
  },
  {
   "cell_type": "markdown",
   "source": [
    "cv msle mean/std 0.35471624442504196, 0.027068297525129115\n",
    "\n",
    "lb private/public 1.11078 0.84864"
   ],
   "metadata": {
    "collapsed": false,
    "pycharm": {
     "name": "#%% md\n"
    }
   }
  },
  {
   "cell_type": "code",
   "execution_count": 1549,
   "outputs": [
    {
     "data": {
      "text/plain": "<Figure size 432x288 with 1 Axes>",
      "image/png": "[encoded data removed]"
     },
     "metadata": {
      "needs_background": "light"
     },
     "output_type": "display_data"
    }
   ],
   "source": [
    "lbs = [8.00372, 0.84866, 0.91851, 1.00819, 1.11078]\n",
    "cvs = [12.14526447697406, 0.4290087898482858, 0.34715537284562237, 0.3935768758709743, 0.35471624442504196]\n",
    "names = [1, 2, 3, 4, 5]\n",
    "\n",
    "fig, ax = plt.subplots()\n",
    "ax.scatter(cvs, lbs)\n",
    "plt.title(\"1-5 models\")\n",
    "for i, txt in enumerate(names):\n",
    "    ax.annotate(txt, (cvs[i], lbs[i]))"
   ],
   "metadata": {
    "collapsed": false,
    "pycharm": {
     "name": "#%%\n"
    }
   }
  },
  {
   "cell_type": "code",
   "execution_count": 1550,
   "outputs": [
    {
     "data": {
      "text/plain": "<Figure size 432x288 with 1 Axes>",
      "image/png": "[encoded data removed]"
     },
     "metadata": {
      "needs_background": "light"
     },
     "output_type": "display_data"
    }
   ],
   "source": [
    "fig, ax = plt.subplots()\n",
    "ax.scatter(cvs[1:], lbs[1:])\n",
    "plt.title(\"2-5 models\")\n",
    "for i, txt in enumerate(names[1:]):\n",
    "    ax.annotate(txt, (cvs[1:][i], lbs[1:][i]))"
   ],
   "metadata": {
    "collapsed": false,
    "pycharm": {
     "name": "#%%\n"
    }
   }
  },
  {
   "cell_type": "markdown",
   "source": [
    "# Вывод\n",
    "\n",
    "Лучшей оказалась модель 2, несмотря на то,\n",
    "что в последующих моделях score кросс валидации уменьшается.\n",
    "Нормализация данных значительно улучшила результат.\n",
    "\n",
    "Добавление новых фичей в модель приводила к уменьшению показателя кросс-валидации,\n",
    "но итоговый результат ухудшался - модель переобучалась.\n",
    "Вероятно из-за того, что добавленные фичи кореллируют между собой."
   ],
   "metadata": {
    "collapsed": false,
    "pycharm": {
     "name": "#%% md\n"
    }
   }
  }
 ],
 "metadata": {
  "kernelspec": {
   "display_name": "Python 3",
   "language": "python",
   "name": "python3"
  },
  "language_info": {
   "codemirror_mode": {
    "name": "ipython",
    "version": 2
   },
   "file_extension": ".py",
   "mimetype": "text/x-python",
   "name": "python",
   "nbconvert_exporter": "python",
   "pygments_lexer": "ipython2",
   "version": "2.7.6"
  }
 },
 "nbformat": 4,
 "nbformat_minor": 0
}